{
 "cells": [
  {
   "cell_type": "markdown",
   "metadata": {},
   "source": [
    "# Model Coding 기본 구조\n",
    "\n",
    "* 구조 예) Linear Regression\n",
    "* Regression Analysis(회귀분석)\n",
    "  : 독립변수와 종속변수 사이에 인과관계가 존재할 때 그 관계의 통계적 유의미성을 검증하고, \n",
    "     또 그 관계의 정도를 분석하는 것"
   ]
  },
  {
   "cell_type": "code",
   "execution_count": 10,
   "metadata": {},
   "outputs": [],
   "source": [
    "import torch\n",
    "import torch.nn as nn\n",
    "import torch.nn.functional as F\n",
    "\n",
    "from torch.utils.data import DataLoader"
   ]
  },
  {
   "cell_type": "markdown",
   "metadata": {},
   "source": [
    "# Dataset은 아래 두 가지로 구성 가능"
   ]
  },
  {
   "cell_type": "markdown",
   "metadata": {},
   "source": [
    "1. 입력 Data가 torch.FloatTensor 인 경우\n",
    "\n",
    "2. 일반 행렬 Data를 pytorch의 Tensor로 변환해야 하는 경우\n",
    "\n",
    "** import 함수가 다르며, 아래는 2번으로 진행되고, 1번은 Markdown 처리함)"
   ]
  },
  {
   "cell_type": "code",
   "execution_count": null,
   "metadata": {},
   "outputs": [],
   "source": [
    "#1\n",
    "from torch.utils.data import TensorDataset\n",
    "x_trains = torch.FloatTensor([[73, 80, 75],\n",
    "                              [93, 88, 93],\n",
    "                              [89, 91, 90],\n",
    "                              [96, 98, 100],\n",
    "                              [73, 66, 70]])\n",
    "y_trains = torch.FloatTensor([[152], [185], [180], [196], [142]])\n",
    "dataset = TensorDataset(x_trains, y_trains)"
   ]
  },
  {
   "cell_type": "code",
   "execution_count": 11,
   "metadata": {},
   "outputs": [],
   "source": [
    "#2\n",
    "from torch.utils.data import Dataset\n",
    "\n",
    "class CustomDataset(Dataset):\n",
    "    def __init__(self):\n",
    "        self.x_data = [[73, 80, 75],\n",
    "                       [93, 88, 93],\n",
    "                       [89, 91, 90],\n",
    "                       [96, 98, 100],\n",
    "                       [73, 66, 70]]\n",
    "        self.y_data = [[152], [185], [180], [196], [142]]\n",
    "    \n",
    "    def __len__(self):\n",
    "        return len(self.x_data)\n",
    "    \n",
    "    def __getitem__(self, idx):\n",
    "        x = torch.FloatTensor(self.x_data[idx])\n",
    "        y = torch.FloatTensor(self.y_data[idx])\n",
    "        return x, y\n",
    "\n",
    "dataset = CustomDataset()"
   ]
  },
  {
   "cell_type": "code",
   "execution_count": 18,
   "metadata": {},
   "outputs": [
    {
     "data": {
      "text/plain": [
       "5"
      ]
     },
     "execution_count": 18,
     "metadata": {},
     "output_type": "execute_result"
    }
   ],
   "source": [
    "# CustomDataset 크기 확인\n",
    "dataset.__len__()"
   ]
  },
  {
   "cell_type": "code",
   "execution_count": 19,
   "metadata": {},
   "outputs": [
    {
     "data": {
      "text/plain": [
       "(tensor([93., 88., 93.]), tensor([185.]))"
      ]
     },
     "execution_count": 19,
     "metadata": {},
     "output_type": "execute_result"
    }
   ],
   "source": [
    "# CustomDataset i번째 원소 확인\n",
    "i=1\n",
    "dataset.__getitem__(i)"
   ]
  },
  {
   "cell_type": "code",
   "execution_count": 6,
   "metadata": {},
   "outputs": [],
   "source": [
    "dataloader = DataLoader (dataset, batch_size = 2, shuffle=True)"
   ]
  },
  {
   "cell_type": "markdown",
   "metadata": {},
   "source": [
    "# Model 정의 방법\n",
    "\n",
    "본 예시의 경우, model = nn.Linear(3,1)로 간단히 정의 가능하나, 향후 복잡한 문제 해결을 위해 class로 구현함"
   ]
  },
  {
   "cell_type": "code",
   "execution_count": 8,
   "metadata": {},
   "outputs": [],
   "source": [
    "class MultiVariateLinear(nn.Module):\n",
    "    def __init__(self):\n",
    "        super().__init__()\n",
    "        self.linear = nn.Linear(3,1)\n",
    "        \n",
    "    def forward(self, x):\n",
    "        return self.linear(x)\n",
    "\n",
    "model = MultiVariateLinear()"
   ]
  },
  {
   "cell_type": "code",
   "execution_count": 9,
   "metadata": {},
   "outputs": [],
   "source": [
    "optimizer = torch.optim.SGD(model.parameters(), lr = 1e-5)"
   ]
  },
  {
   "cell_type": "markdown",
   "metadata": {},
   "source": [
    "# Model 학습"
   ]
  },
  {
   "cell_type": "code",
   "execution_count": 11,
   "metadata": {},
   "outputs": [
    {
     "name": "stdout",
     "output_type": "stream",
     "text": [
      "Epoch    0/200 Batch1/3 Cost: 1.094231\n",
      "Epoch    0/200 Batch2/3 Cost: 0.155639\n",
      "Epoch    0/200 Batch3/3 Cost: 1.430706\n",
      "Epoch   50/200 Batch1/3 Cost: 0.898428\n",
      "Epoch   50/200 Batch2/3 Cost: 0.558950\n",
      "Epoch   50/200 Batch3/3 Cost: 1.512739\n",
      "Epoch  100/200 Batch1/3 Cost: 0.335478\n",
      "Epoch  100/200 Batch2/3 Cost: 1.821562\n",
      "Epoch  100/200 Batch3/3 Cost: 0.025616\n",
      "Epoch  150/200 Batch1/3 Cost: 0.329790\n",
      "Epoch  150/200 Batch2/3 Cost: 1.483798\n",
      "Epoch  150/200 Batch3/3 Cost: 0.897283\n",
      "Epoch  200/200 Batch1/3 Cost: 0.109546\n",
      "Epoch  200/200 Batch2/3 Cost: 0.907395\n",
      "Epoch  200/200 Batch3/3 Cost: 0.979899\n"
     ]
    }
   ],
   "source": [
    "nb_epochs = 200\n",
    "for epoch in range(nb_epochs +1):\n",
    "    for batch_idx, samples in enumerate(dataloader):\n",
    "#        print(batch_idx)     # enumerate 함수 작동을 보려면 주석 해제\n",
    "#        print(samples)\n",
    "        x_train, y_train = samples\n",
    "        \n",
    "        prediction = model(x_train)\n",
    "        \n",
    "        cost = F.mse_loss(prediction, y_train)\n",
    "        \n",
    "        optimizer.zero_grad()\n",
    "        cost.backward()\n",
    "        optimizer.step()\n",
    "        \n",
    "        if epoch % 50 == 0:\n",
    "            print('Epoch {:4d}/{} Batch{}/{} Cost: {:.6f}'.format(\n",
    "                epoch, nb_epochs, batch_idx+1, len(dataloader), cost.item()\n",
    "                ))"
   ]
  },
  {
   "cell_type": "markdown",
   "metadata": {},
   "source": [
    "# 학습된 Model로 예측"
   ]
  },
  {
   "cell_type": "code",
   "execution_count": 12,
   "metadata": {},
   "outputs": [
    {
     "name": "stdout",
     "output_type": "stream",
     "text": [
      "훈련 후 입력이 73, 80, 75일 때의 예측값 : tensor([[152.2095]], grad_fn=<AddmmBackward>)\n"
     ]
    }
   ],
   "source": [
    "new_var = torch.FloatTensor([[73, 80,75]])\n",
    "pred_y = model(new_var)\n",
    "print(\"훈련 후 입력이 73, 80, 75일 때의 예측값 :\", pred_y) "
   ]
  },
  {
   "cell_type": "markdown",
   "metadata": {},
   "source": [
    "* Reference\n",
    "\n",
    "  -. https://wikidocs.net/54841\n",
    "  \n",
    "  -. https://wikidocs.net/60036"
   ]
  }
 ],
 "metadata": {
  "kernelspec": {
   "display_name": "Python 3",
   "language": "python",
   "name": "python3"
  },
  "language_info": {
   "codemirror_mode": {
    "name": "ipython",
    "version": 3
   },
   "file_extension": ".py",
   "mimetype": "text/x-python",
   "name": "python",
   "nbconvert_exporter": "python",
   "pygments_lexer": "ipython3",
   "version": "3.7.6"
  }
 },
 "nbformat": 4,
 "nbformat_minor": 4
}
