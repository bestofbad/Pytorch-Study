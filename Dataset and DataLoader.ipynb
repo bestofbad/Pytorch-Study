{
 "cells": [
  {
   "cell_type": "markdown",
   "metadata": {},
   "source": [
    "# Dataset"
   ]
  },
  {
   "cell_type": "code",
   "execution_count": 31,
   "metadata": {
    "scrolled": false
   },
   "outputs": [
    {
     "name": "stdout",
     "output_type": "stream",
     "text": [
      "[[  0   1   2   3   4   5]\n",
      " [ 10  11  12  13  14  15]\n",
      " [ 20  21  22  23  24  25]\n",
      " [ 30  31  32  33  34  35]\n",
      " [ 40  41  42  43  44  45]\n",
      " [ 50  51  52  53  54  55]\n",
      " [ 60  61  62  63  64  65]\n",
      " [ 70  71  72  73  74  75]\n",
      " [ 80  81  82  83  84  85]\n",
      " [ 90  91  92  93  94  95]\n",
      " [100 101 102 103 104 105]\n",
      " [110 111 112 113 114 115]\n",
      " [120 121 122 123 124 125]\n",
      " [130 131 132 133 134 135]\n",
      " [140 141 142 143 144 145]\n",
      " [150 151 152 153 154 155]\n",
      " [160 161 162 163 164 165]\n",
      " [170 171 172 173 174 175]\n",
      " [180 181 182 183 184 185]\n",
      " [190 191 192 193 194 195]\n",
      " [200 201 202 203 204 205]]\n"
     ]
    }
   ],
   "source": [
    "# 외부 File을 Reading한 Data를 가정하기 위해, 임의의 np Data array 형성\n",
    "# 1~5 열까지 x, 6열은 Y 라고 가정.\n",
    "\n",
    "import numpy as np\n",
    "\n",
    "nA=np.arange(6) + np.arange(0, 201, 10)[:, np.newaxis]\n",
    "print(nA)"
   ]
  },
  {
   "cell_type": "markdown",
   "metadata": {},
   "source": [
    "# 1-1. Dataset by myself"
   ]
  },
  {
   "cell_type": "code",
   "execution_count": 36,
   "metadata": {},
   "outputs": [],
   "source": [
    "import torch\n",
    "from torch.autograd import Variable\n",
    "from torch.utils.data import Dataset   # 1-2.와 import되는 함수가 다름\n",
    "\n",
    "class MyDataset(Dataset):\n",
    "    def __init__(self):\n",
    "        # 입력된 Data를 x와 y set으로 분리\n",
    "        self.x_data = Variable(torch.from_numpy(nA[:,0:-1]))\n",
    "        self.y_data = Variable(torch.from_numpy(nA[:,[-1]]))\n",
    "    \n",
    "    def __len__(self):\n",
    "        return len(self.x_data)\n",
    "    \n",
    "    def __getitem__(self, idx):\n",
    "        x = self.x_data[idx]\n",
    "        y = self.y_data[idx]\n",
    "        return x, y\n",
    "\n",
    "dataset = MyDataset()"
   ]
  },
  {
   "cell_type": "markdown",
   "metadata": {},
   "source": [
    "# 1-2. Dataset in Torch"
   ]
  },
  {
   "cell_type": "code",
   "execution_count": 57,
   "metadata": {},
   "outputs": [],
   "source": [
    "from torch.utils.data import TensorDataset   # 1-1과 import되는 함수가 다름\n",
    "\n",
    "# 입력된 Data를 x와 y set으로 분리\n",
    "\n",
    "x_data = Variable(torch.from_numpy(nA[:,0:-1]))\n",
    "y_data = Variable(torch.from_numpy(nA[:,[-1]]))\n",
    "\n",
    "dataset = TensorDataset(x_data, y_data)"
   ]
  },
  {
   "cell_type": "markdown",
   "metadata": {},
   "source": [
    "* Dataset working 확인 (1-2, 1-2 공통)"
   ]
  },
  {
   "cell_type": "code",
   "execution_count": 53,
   "metadata": {},
   "outputs": [
    {
     "data": {
      "text/plain": [
       "21"
      ]
     },
     "execution_count": 53,
     "metadata": {},
     "output_type": "execute_result"
    }
   ],
   "source": [
    "# MyDataset 크기 확인\n",
    "dataset.__len__()"
   ]
  },
  {
   "cell_type": "code",
   "execution_count": 54,
   "metadata": {},
   "outputs": [
    {
     "data": {
      "text/plain": [
       "(tensor([10, 11, 12, 13, 14], dtype=torch.int32),\n",
       " tensor([15], dtype=torch.int32))"
      ]
     },
     "execution_count": 54,
     "metadata": {},
     "output_type": "execute_result"
    }
   ],
   "source": [
    "# MyDataset i번째 원소 확인\n",
    "i=1\n",
    "dataset.__getitem__(i)"
   ]
  },
  {
   "cell_type": "markdown",
   "metadata": {},
   "source": [
    "# DataLoader"
   ]
  },
  {
   "cell_type": "code",
   "execution_count": 56,
   "metadata": {},
   "outputs": [],
   "source": [
    "from torch.utils.data import DataLoader\n",
    "\n",
    "dataloader = DataLoader(dataset, batch_size = 3, shuffle=False)  #결과 확인을 쉽게 하기위해 shuffle 안함."
   ]
  },
  {
   "cell_type": "markdown",
   "metadata": {},
   "source": [
    "* DataLoader working 확인"
   ]
  },
  {
   "cell_type": "code",
   "execution_count": 55,
   "metadata": {},
   "outputs": [
    {
     "name": "stdout",
     "output_type": "stream",
     "text": [
      "tensor([[ 0,  1,  2,  3,  4],\n",
      "        [10, 11, 12, 13, 14],\n",
      "        [20, 21, 22, 23, 24]], dtype=torch.int32) tensor([[ 5],\n",
      "        [15],\n",
      "        [25]], dtype=torch.int32)\n",
      "batch 0 finished\n",
      "tensor([[30, 31, 32, 33, 34],\n",
      "        [40, 41, 42, 43, 44],\n",
      "        [50, 51, 52, 53, 54]], dtype=torch.int32) tensor([[35],\n",
      "        [45],\n",
      "        [55]], dtype=torch.int32)\n",
      "batch 1 finished\n",
      "tensor([[60, 61, 62, 63, 64],\n",
      "        [70, 71, 72, 73, 74],\n",
      "        [80, 81, 82, 83, 84]], dtype=torch.int32) tensor([[65],\n",
      "        [75],\n",
      "        [85]], dtype=torch.int32)\n",
      "batch 2 finished\n",
      "tensor([[ 90,  91,  92,  93,  94],\n",
      "        [100, 101, 102, 103, 104],\n",
      "        [110, 111, 112, 113, 114]], dtype=torch.int32) tensor([[ 95],\n",
      "        [105],\n",
      "        [115]], dtype=torch.int32)\n",
      "batch 3 finished\n",
      "tensor([[120, 121, 122, 123, 124],\n",
      "        [130, 131, 132, 133, 134],\n",
      "        [140, 141, 142, 143, 144]], dtype=torch.int32) tensor([[125],\n",
      "        [135],\n",
      "        [145]], dtype=torch.int32)\n",
      "batch 4 finished\n",
      "tensor([[150, 151, 152, 153, 154],\n",
      "        [160, 161, 162, 163, 164],\n",
      "        [170, 171, 172, 173, 174]], dtype=torch.int32) tensor([[155],\n",
      "        [165],\n",
      "        [175]], dtype=torch.int32)\n",
      "batch 5 finished\n",
      "tensor([[180, 181, 182, 183, 184],\n",
      "        [190, 191, 192, 193, 194],\n",
      "        [200, 201, 202, 203, 204]], dtype=torch.int32) tensor([[185],\n",
      "        [195],\n",
      "        [205]], dtype=torch.int32)\n",
      "batch 6 finished\n"
     ]
    }
   ],
   "source": [
    "for batch_idx, samples in enumerate(dataloader):\n",
    "    x_train, y_train = samples\n",
    "    print(x_train, y_train)\n",
    "    print(\"batch %d finished\" %batch_idx)"
   ]
  },
  {
   "cell_type": "markdown",
   "metadata": {},
   "source": [
    "* Reference\n",
    "\n",
    " -. https://www.youtube.com/watch?v=zN49HdDxHi8&list=PLlMkM4tgfjnJ3I-dbhO9JTw7gNty6o_2m&index=8"
   ]
  }
 ],
 "metadata": {
  "kernelspec": {
   "display_name": "Python 3",
   "language": "python",
   "name": "python3"
  },
  "language_info": {
   "codemirror_mode": {
    "name": "ipython",
    "version": 3
   },
   "file_extension": ".py",
   "mimetype": "text/x-python",
   "name": "python",
   "nbconvert_exporter": "python",
   "pygments_lexer": "ipython3",
   "version": "3.7.6"
  }
 },
 "nbformat": 4,
 "nbformat_minor": 4
}
