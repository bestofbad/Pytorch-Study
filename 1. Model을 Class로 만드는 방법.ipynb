{
 "cells": [
  {
   "cell_type": "markdown",
   "metadata": {},
   "source": [
    "# Model을 Class로 만드는 방법\n",
    "\n",
    "* 로지스틱 회귀 모델 예"
   ]
  },
  {
   "cell_type": "code",
   "execution_count": 3,
   "metadata": {},
   "outputs": [],
   "source": [
    "model = nn.Sequential(\n",
    "   nn.Linear(2, 1),      # input_dim = 2, output_dim = 1\n",
    "   nn.Sigmoid()          # 출력은 시그모이드 함수를 거친다\n",
    ")"
   ]
  },
  {
   "cell_type": "markdown",
   "metadata": {},
   "source": [
    "이를 Class로 바꾸는 방법"
   ]
  },
  {
   "cell_type": "code",
   "execution_count": 4,
   "metadata": {},
   "outputs": [],
   "source": [
    "class BinaryClassifier(nn.Module):\n",
    "    def __init__(self):\n",
    "        super().__init__()\n",
    "        self.linear = nn.Linear(2, 1)\n",
    "        self.sigmoid = nn.Sigmoid()\n",
    "\n",
    "    def forward(self, x):\n",
    "        return self.sigmoid(self.linear(x))"
   ]
  },
  {
   "cell_type": "markdown",
   "metadata": {},
   "source": [
    "1. 클래스(class) 형태의 모델은 nn.Module 을 상속받음.\n",
    "2. __init__()은 모델의 구조와 동적을 정의하는 생성자를 정의\n",
    "   객체가 갖는 속성값을 초기화하는 역할을 하며, 객체가 생성될 때 자동으호 호출됨.\n",
    "3. super() 함수는 nn.Module 클래스의 속성들을 가지고 해당 Class를 초기화\n",
    "4. foward() 함수는 Model에 입력된 학습데이터를 연산을 진행시키는 함수로, 자동으로 실행됨.\n",
    "   즉, model이란 이름의 객체를 생성 후, model(입력 데이터)와 같은 형식으로 객체를 호출하면 자동으로 forward 연산이 수행됨."
   ]
  },
  {
   "cell_type": "markdown",
   "metadata": {},
   "source": [
    "따라서 PyTorch의 모든 모델은 기본적으로 다음 구조를 갖으며,\n",
    "PyTorch 모든 모델은 반드시 다음의 정의를 따라야 한다."
   ]
  },
  {
   "cell_type": "code",
   "execution_count": 1,
   "metadata": {},
   "outputs": [],
   "source": [
    "import torch.nn as nn\n",
    "import torch.nn.functional as F\n",
    "\n",
    "class Model_Name(nn.Module):\n",
    "    def __init__(self):\n",
    "        super(Model_Name, self).__init__()\n",
    "        self.module1 = ...\n",
    "        self.module2 = ...\n",
    "        \"\"\"\n",
    "        ex)\n",
    "        self.conv1 = nn.Conv2d(1, 20, 5)\n",
    "        self.conv2 = nn.Conv2d(20, 20, 5)\n",
    "        \"\"\"\n",
    "\n",
    "    def forward(self, x):\n",
    "        x = some_function1(x)\n",
    "        x = some_function2(x)\n",
    "        \"\"\"\n",
    "        ex)\n",
    "        x = F.relu(self.conv1(x))\n",
    "        x = F.relu(self.conv2(x))\n",
    "        \"\"\"\n",
    "        return x\n"
   ]
  },
  {
   "cell_type": "markdown",
   "metadata": {},
   "source": [
    "* Reference\n",
    "\n",
    "  -. https://wikidocs.net/60036\n",
    "\n",
    "  -. https://wikidocs.net/60037"
   ]
  }
 ],
 "metadata": {
  "kernelspec": {
   "display_name": "Python 3",
   "language": "python",
   "name": "python3"
  },
  "language_info": {
   "codemirror_mode": {
    "name": "ipython",
    "version": 3
   },
   "file_extension": ".py",
   "mimetype": "text/x-python",
   "name": "python",
   "nbconvert_exporter": "python",
   "pygments_lexer": "ipython3",
   "version": "3.7.6"
  }
 },
 "nbformat": 4,
 "nbformat_minor": 4
}
